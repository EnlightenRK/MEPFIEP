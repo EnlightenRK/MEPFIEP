{
 "cells": [
  {
   "metadata": {},
   "cell_type": "markdown",
   "source": [
    "git remote remove origin\n",
    "\n",
    "git remote add origin git@github.com:EnlightenRK/MEPFIEP.git"
   ],
   "id": "a5b977299214948"
  },
  {
   "metadata": {},
   "cell_type": "code",
   "source": [
    "import pandas as pd\n",
    "        \n",
    "加州工业电价和天然气价格 = pd.read_csv('../Data/AdvanceGuidanceData/加州工业电价和天然气价格.csv', sep = ',')\n",
    "data =  加州工业电价和天然气价格\n",
    "data"
   ],
   "id": "94ca23a193dd6ec",
   "outputs": [
    {
     "data": {
      "text/plain": [
       "           time  electricity-price  LNG-value\n",
       "0    2001-01-01               5.75       7.75\n",
       "1    2001-02-01               7.70       9.34\n",
       "2    2001-03-01               7.70       9.84\n",
       "3    2001-04-01               7.58      10.06\n",
       "4    2001-05-01               8.05       7.53\n",
       "..          ...                ...        ...\n",
       "278  2024-03-01              18.96      13.19\n",
       "279  2024-04-01              19.30      11.30\n",
       "280  2024-05-01              21.23       9.11\n",
       "281  2024-06-01              22.54       9.07\n",
       "282  2024-07-01              26.12       9.87\n",
       "\n",
       "[283 rows x 3 columns]"
      ],
      "text/html": [
       "<div>\n",
       "<style scoped>\n",
       "    .dataframe tbody tr th:only-of-type {\n",
       "        vertical-align: middle;\n",
       "    }\n",
       "\n",
       "    .dataframe tbody tr th {\n",
       "        vertical-align: top;\n",
       "    }\n",
       "\n",
       "    .dataframe thead th {\n",
       "        text-align: right;\n",
       "    }\n",
       "</style>\n",
       "<table border=\"1\" class=\"dataframe\">\n",
       "  <thead>\n",
       "    <tr style=\"text-align: right;\">\n",
       "      <th></th>\n",
       "      <th>time</th>\n",
       "      <th>electricity-price</th>\n",
       "      <th>LNG-value</th>\n",
       "    </tr>\n",
       "  </thead>\n",
       "  <tbody>\n",
       "    <tr>\n",
       "      <th>0</th>\n",
       "      <td>2001-01-01</td>\n",
       "      <td>5.75</td>\n",
       "      <td>7.75</td>\n",
       "    </tr>\n",
       "    <tr>\n",
       "      <th>1</th>\n",
       "      <td>2001-02-01</td>\n",
       "      <td>7.70</td>\n",
       "      <td>9.34</td>\n",
       "    </tr>\n",
       "    <tr>\n",
       "      <th>2</th>\n",
       "      <td>2001-03-01</td>\n",
       "      <td>7.70</td>\n",
       "      <td>9.84</td>\n",
       "    </tr>\n",
       "    <tr>\n",
       "      <th>3</th>\n",
       "      <td>2001-04-01</td>\n",
       "      <td>7.58</td>\n",
       "      <td>10.06</td>\n",
       "    </tr>\n",
       "    <tr>\n",
       "      <th>4</th>\n",
       "      <td>2001-05-01</td>\n",
       "      <td>8.05</td>\n",
       "      <td>7.53</td>\n",
       "    </tr>\n",
       "    <tr>\n",
       "      <th>...</th>\n",
       "      <td>...</td>\n",
       "      <td>...</td>\n",
       "      <td>...</td>\n",
       "    </tr>\n",
       "    <tr>\n",
       "      <th>278</th>\n",
       "      <td>2024-03-01</td>\n",
       "      <td>18.96</td>\n",
       "      <td>13.19</td>\n",
       "    </tr>\n",
       "    <tr>\n",
       "      <th>279</th>\n",
       "      <td>2024-04-01</td>\n",
       "      <td>19.30</td>\n",
       "      <td>11.30</td>\n",
       "    </tr>\n",
       "    <tr>\n",
       "      <th>280</th>\n",
       "      <td>2024-05-01</td>\n",
       "      <td>21.23</td>\n",
       "      <td>9.11</td>\n",
       "    </tr>\n",
       "    <tr>\n",
       "      <th>281</th>\n",
       "      <td>2024-06-01</td>\n",
       "      <td>22.54</td>\n",
       "      <td>9.07</td>\n",
       "    </tr>\n",
       "    <tr>\n",
       "      <th>282</th>\n",
       "      <td>2024-07-01</td>\n",
       "      <td>26.12</td>\n",
       "      <td>9.87</td>\n",
       "    </tr>\n",
       "  </tbody>\n",
       "</table>\n",
       "<p>283 rows × 3 columns</p>\n",
       "</div>"
      ]
     },
     "execution_count": 1,
     "metadata": {},
     "output_type": "execute_result"
    }
   ],
   "execution_count": 1
  },
  {
   "metadata": {},
   "cell_type": "markdown",
   "source": "### 平稳性检验：首先，对每个时间序列进行平稳性检验，如ADF（Augmented Dickey-Fuller）检验，确保数据平稳或进行差分处理以达到平稳性。\n",
   "id": "e30cbbc4c72a028b"
  },
  {
   "metadata": {
    "ExecuteTime": {
     "end_time": "2024-11-06T13:39:33.713864Z",
     "start_time": "2024-11-06T13:39:33.142042Z"
    }
   },
   "cell_type": "code",
   "source": [
    "from statsmodels.tsa.stattools import adfuller\n",
    "\n",
    "# Perform ADF test on both series to check for stationarity\n",
    "adf_electricity = adfuller(data['electricity-price'])\n",
    "adf_lng = adfuller(data['LNG-value'])\n",
    "\n",
    "# Collect results\n",
    "adf_results = {\n",
    "    'Electricity Price ADF Statistic': adf_electricity[0],\n",
    "    'Electricity Price p-value': adf_electricity[1],\n",
    "    'LNG Value ADF Statistic': adf_lng[0],\n",
    "    'LNG Value p-value': adf_lng[1]\n",
    "}\n",
    "                \n",
    "adf_results\n"
   ],
   "id": "39307734f769ad47",
   "outputs": [
    {
     "data": {
      "text/plain": [
       "{'Electricity Price ADF Statistic': 4.325569338834163,\n",
       " 'Electricity Price p-value': 1.0,\n",
       " 'LNG Value ADF Statistic': -2.2737837416715263,\n",
       " 'LNG Value p-value': 0.18056267209364074}"
      ]
     },
     "execution_count": 2,
     "metadata": {},
     "output_type": "execute_result"
    }
   ],
   "execution_count": 2
  },
  {
   "metadata": {},
   "cell_type": "markdown",
   "source": [
    ">Electricity Price：ADF统计量为4.33，p值为1.0，说明电价序列非平稳。\n",
    "\n",
    ">LNG Value：ADF统计量为-2.27，p值为0.18，说明LNG价格序列也非平稳"
   ],
   "id": "112172dbcf2058c5"
  },
  {
   "metadata": {
    "ExecuteTime": {
     "end_time": "2024-11-06T13:39:33.768863Z",
     "start_time": "2024-11-06T13:39:33.742867Z"
    }
   },
   "cell_type": "code",
   "source": [
    "# Perform first-order differencing to make the series stationary\n",
    "data['electricity-price-diff'] = data['electricity-price'].diff().dropna()\n",
    "data['LNG-value-diff'] = data['LNG-value'].diff().dropna()\n",
    "\n",
    "# Re-run the ADF test on the differenced series\n",
    "adf_electricity_diff = adfuller(data['electricity-price-diff'].dropna())\n",
    "adf_lng_diff = adfuller(data['LNG-value-diff'].dropna())\n",
    "\n",
    "# Collect new results\n",
    "adf_diff_results = {\n",
    "    'Differenced Electricity Price ADF Statistic': adf_electricity_diff[0],\n",
    "    'Differenced Electricity Price p-value': adf_electricity_diff[1],\n",
    "    'Differenced LNG Value ADF Statistic': adf_lng_diff[0],\n",
    "    'Differenced LNG Value p-value': adf_lng_diff[1]\n",
    "}\n",
    "\n",
    "adf_diff_results\n"
   ],
   "id": "329d4280085d629f",
   "outputs": [
    {
     "data": {
      "text/plain": [
       "{'Differenced Electricity Price ADF Statistic': -2.169742399889196,\n",
       " 'Differenced Electricity Price p-value': 0.2174098832044059,\n",
       " 'Differenced LNG Value ADF Statistic': -5.225113762377162,\n",
       " 'Differenced LNG Value p-value': 7.811334992544655e-06}"
      ]
     },
     "execution_count": 3,
     "metadata": {},
     "output_type": "execute_result"
    }
   ],
   "execution_count": 3
  },
  {
   "metadata": {},
   "cell_type": "markdown",
   "source": [
    "## 差分后的平稳性检验结果\n",
    ">Differenced Electricity Price：ADF统计量为-2.17，p值为0.217，仍未达到平稳性标准。\n",
    "\n",
    ">Differenced LNG Value：ADF统计量为-5.23，p值接近0，说明LNG价格序列在一阶差分后平稳。"
   ],
   "id": "ed7efda462c07d52"
  },
  {
   "metadata": {
    "ExecuteTime": {
     "end_time": "2024-11-06T13:39:33.856871Z",
     "start_time": "2024-11-06T13:39:33.839864Z"
    }
   },
   "cell_type": "code",
   "source": [
    "# Perform second-order differencing on the electricity price series\n",
    "data['electricity-price-diff2'] = data['electricity-price'].diff().diff().dropna()\n",
    "\n",
    "# Re-run the ADF test on the second-order differenced series\n",
    "adf_electricity_diff2 = adfuller(data['electricity-price-diff2'].dropna())\n",
    "\n",
    "# Collect the new result for the second-order differenced series\n",
    "adf_diff2_result = {\n",
    "    'Second-Order Differenced Electricity Price ADF Statistic': adf_electricity_diff2[0],\n",
    "    'Second-Order Differenced Electricity Price p-value': adf_electricity_diff2[1]\n",
    "}\n",
    "\n",
    "adf_diff2_result\n"
   ],
   "id": "f01696b5ff4bcad9",
   "outputs": [
    {
     "data": {
      "text/plain": [
       "{'Second-Order Differenced Electricity Price ADF Statistic': -10.004827713521449,\n",
       " 'Second-Order Differenced Electricity Price p-value': 1.8432737962005207e-17}"
      ]
     },
     "execution_count": 4,
     "metadata": {},
     "output_type": "execute_result"
    }
   ],
   "execution_count": 4
  },
  {
   "metadata": {},
   "cell_type": "markdown",
   "source": "Second-OrderElectricity Price：ADF统计量为-10.00，p值接近0，说明电价序列在二阶差分后达到了平稳性。",
   "id": "b9135102141f4e2b"
  },
  {
   "metadata": {
    "ExecuteTime": {
     "end_time": "2024-11-06T13:39:33.917865Z",
     "start_time": "2024-11-06T13:39:33.914864Z"
    }
   },
   "cell_type": "code",
   "source": "",
   "id": "5bb634a0a35e2644",
   "outputs": [],
   "execution_count": null
  },
  {
   "metadata": {},
   "cell_type": "markdown",
   "source": "\n",
   "id": "b59377237bfa2656"
  },
  {
   "metadata": {
    "ExecuteTime": {
     "end_time": "2024-11-06T13:39:33.934865Z",
     "start_time": "2024-11-06T13:39:33.930866Z"
    }
   },
   "cell_type": "code",
   "source": "",
   "id": "a9d53813731d8b51",
   "outputs": [],
   "execution_count": null
  },
  {
   "metadata": {
    "ExecuteTime": {
     "end_time": "2024-11-06T13:39:34.077445Z",
     "start_time": "2024-11-06T13:39:33.964445Z"
    }
   },
   "cell_type": "code",
   "source": [
    "from statsmodels.tsa.api import VAR\n",
    "\n",
    "# Prepare the data for the VAR model using the stationary series\n",
    "var_data = data[['electricity-price-diff2', 'LNG-value-diff']].dropna()\n",
    "\n",
    "# Fit the VAR model and select the optimal lag order based on AIC\n",
    "model = VAR(var_data)\n",
    "lag_order_results = model.select_order(maxlags=10)  # Checking up to 10 lags\n",
    "\n",
    "# Display the selected lag order based on AIC\n",
    "optimal_lag_order = lag_order_results.aic\n",
    "\n",
    "optimal_lag_order\n"
   ],
   "id": "c0a740628ca5aef7",
   "outputs": [
    {
     "name": "stderr",
     "output_type": "stream",
     "text": [
      "D:\\anaconda\\envs\\MEPFIEP\\lib\\site-packages\\statsmodels\\tsa\\base\\tsa_model.py:473: ValueWarning: An unsupported index was provided and will be ignored when e.g. forecasting.\n",
      "  self._init_dates(dates, freq)\n"
     ]
    },
    {
     "data": {
      "text/plain": [
       "10"
      ]
     },
     "execution_count": 5,
     "metadata": {},
     "output_type": "execute_result"
    }
   ],
   "execution_count": 5
  },
  {
   "metadata": {
    "ExecuteTime": {
     "end_time": "2024-11-06T13:39:34.117445Z",
     "start_time": "2024-11-06T13:39:34.098444Z"
    }
   },
   "cell_type": "code",
   "source": [
    "# Fit the VAR model with the selected lag order\n",
    "var_model = model.fit(optimal_lag_order)\n",
    "\n",
    "# Summary of the fitted VAR model\n",
    "var_model_summary = var_model.summary()\n",
    "\n",
    "var_model_summary\n"
   ],
   "id": "ee13a59a80f6539b",
   "outputs": [
    {
     "data": {
      "text/plain": [
       "  Summary of Regression Results   \n",
       "==================================\n",
       "Model:                         VAR\n",
       "Method:                        OLS\n",
       "Date:           Wed, 06, Nov, 2024\n",
       "Time:                     21:39:34\n",
       "--------------------------------------------------------------------\n",
       "No. of Equations:         2.00000    BIC:                  -0.387487\n",
       "Nobs:                     271.000    HQIC:                 -0.721600\n",
       "Log likelihood:          -598.916    FPE:                   0.388631\n",
       "AIC:                    -0.945749    Det(Omega_mle):        0.334742\n",
       "--------------------------------------------------------------------\n",
       "Results for equation electricity-price-diff2\n",
       "==============================================================================================\n",
       "                                 coefficient       std. error           t-stat            prob\n",
       "----------------------------------------------------------------------------------------------\n",
       "const                               0.018650         0.043447            0.429           0.668\n",
       "L1.electricity-price-diff2         -0.771133         0.061048          -12.632           0.000\n",
       "L1.LNG-value-diff                   0.054618         0.055288            0.988           0.323\n",
       "L2.electricity-price-diff2         -0.753326         0.074667          -10.089           0.000\n",
       "L2.LNG-value-diff                  -0.080420         0.055993           -1.436           0.151\n",
       "L3.electricity-price-diff2         -0.533727         0.077748           -6.865           0.000\n",
       "L3.LNG-value-diff                  -0.046761         0.056559           -0.827           0.408\n",
       "L4.electricity-price-diff2         -0.413199         0.073158           -5.648           0.000\n",
       "L4.LNG-value-diff                  -0.054011         0.056222           -0.961           0.337\n",
       "L5.electricity-price-diff2         -0.392737         0.063180           -6.216           0.000\n",
       "L5.LNG-value-diff                  -0.112163         0.056496           -1.985           0.047\n",
       "L6.electricity-price-diff2         -0.667775         0.063329          -10.545           0.000\n",
       "L6.LNG-value-diff                   0.308317         0.054605            5.646           0.000\n",
       "L7.electricity-price-diff2         -0.646976         0.071625           -9.033           0.000\n",
       "L7.LNG-value-diff                  -0.025304         0.058519           -0.432           0.665\n",
       "L8.electricity-price-diff2         -0.637708         0.076523           -8.334           0.000\n",
       "L8.LNG-value-diff                   0.005373         0.057963            0.093           0.926\n",
       "L9.electricity-price-diff2         -0.371294         0.071310           -5.207           0.000\n",
       "L9.LNG-value-diff                   0.039417         0.058458            0.674           0.500\n",
       "L10.electricity-price-diff2        -0.317817         0.055961           -5.679           0.000\n",
       "L10.LNG-value-diff                 -0.132606         0.057343           -2.313           0.021\n",
       "==============================================================================================\n",
       "\n",
       "Results for equation LNG-value-diff\n",
       "==============================================================================================\n",
       "                                 coefficient       std. error           t-stat            prob\n",
       "----------------------------------------------------------------------------------------------\n",
       "const                               0.035136         0.049747            0.706           0.480\n",
       "L1.electricity-price-diff2         -0.008763         0.069901           -0.125           0.900\n",
       "L1.LNG-value-diff                   0.180466         0.063306            2.851           0.004\n",
       "L2.electricity-price-diff2         -0.089534         0.085495           -1.047           0.295\n",
       "L2.LNG-value-diff                  -0.092698         0.064113           -1.446           0.148\n",
       "L3.electricity-price-diff2         -0.220559         0.089022           -2.478           0.013\n",
       "L3.LNG-value-diff                  -0.094850         0.064761           -1.465           0.143\n",
       "L4.electricity-price-diff2         -0.171461         0.083768           -2.047           0.041\n",
       "L4.LNG-value-diff                  -0.151690         0.064376           -2.356           0.018\n",
       "L5.electricity-price-diff2         -0.052511         0.072342           -0.726           0.468\n",
       "L5.LNG-value-diff                  -0.084491         0.064689           -1.306           0.192\n",
       "L6.electricity-price-diff2          0.248133         0.072513            3.422           0.001\n",
       "L6.LNG-value-diff                   0.060141         0.062524            0.962           0.336\n",
       "L7.electricity-price-diff2          0.150119         0.082012            1.830           0.067\n",
       "L7.LNG-value-diff                  -0.108976         0.067005           -1.626           0.104\n",
       "L8.electricity-price-diff2          0.049678         0.087619            0.567           0.571\n",
       "L8.LNG-value-diff                  -0.050202         0.066368           -0.756           0.449\n",
       "L9.electricity-price-diff2         -0.037825         0.081651           -0.463           0.643\n",
       "L9.LNG-value-diff                  -0.125908         0.066935           -1.881           0.060\n",
       "L10.electricity-price-diff2        -0.042186         0.064076           -0.658           0.510\n",
       "L10.LNG-value-diff                 -0.008681         0.065659           -0.132           0.895\n",
       "==============================================================================================\n",
       "\n",
       "Correlation matrix of residuals\n",
       "                           electricity-price-diff2  LNG-value-diff\n",
       "electricity-price-diff2                   1.000000       -0.093730\n",
       "LNG-value-diff                           -0.093730        1.000000\n",
       "\n"
      ]
     },
     "execution_count": 6,
     "metadata": {},
     "output_type": "execute_result"
    }
   ],
   "execution_count": 6
  },
  {
   "metadata": {
    "ExecuteTime": {
     "end_time": "2024-11-06T13:39:34.154449Z",
     "start_time": "2024-11-06T13:39:34.150446Z"
    }
   },
   "cell_type": "code",
   "source": "var_model",
   "id": "c4d3199ea32f7d5c",
   "outputs": [
    {
     "data": {
      "text/plain": [
       "<statsmodels.tsa.vector_ar.var_model.VARResultsWrapper at 0x2686829a340>"
      ]
     },
     "execution_count": 7,
     "metadata": {},
     "output_type": "execute_result"
    }
   ],
   "execution_count": 7
  }
 ],
 "metadata": {
  "kernelspec": {
   "display_name": "Python 3",
   "language": "python",
   "name": "python3"
  },
  "language_info": {
   "codemirror_mode": {
    "name": "ipython",
    "version": 2
   },
   "file_extension": ".py",
   "mimetype": "text/x-python",
   "name": "python",
   "nbconvert_exporter": "python",
   "pygments_lexer": "ipython2",
   "version": "2.7.6"
  }
 },
 "nbformat": 4,
 "nbformat_minor": 5
}
