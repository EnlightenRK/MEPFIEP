{
 "cells": [
  {
   "cell_type": "code",
   "id": "initial_id",
   "metadata": {
    "collapsed": true,
    "ExecuteTime": {
     "end_time": "2024-11-10T11:23:30.556917Z",
     "start_time": "2024-11-10T11:23:30.545937Z"
    }
   },
   "source": [
    "import os\n",
    "\n",
    "# 中国省份拼音列表\n",
    "provinces = [\n",
    "    'beijing', 'tianjin', 'hebei', 'shanxi', 'neimenggu', 'liaoning', 'jilin', 'heilongjiang',\n",
    "    'shanghai', 'jiangsu', 'zhejiang', 'anhui', 'fujian', 'jiangxi', 'shandong', 'henan', 'hubei',\n",
    "    'hunan', 'guangdong', 'guangxi', 'hainan', 'chongqing', 'sichuan', 'guizhou', 'yunnan',\n",
    "    'xizang', 'shanxi', 'gansu', 'qinghai', 'ningxia', 'xinjiang'\n",
    "]\n",
    "\n",
    "# 创建文件夹\n",
    "for province in provinces:\n",
    "    os.makedirs(province, exist_ok=True)\n",
    "\n",
    "print(\"文件夹创建完成。\")\n"
   ],
   "outputs": [
    {
     "name": "stdout",
     "output_type": "stream",
     "text": [
      "文件夹创建完成。\n"
     ]
    }
   ],
   "execution_count": 1
  },
  {
   "metadata": {},
   "cell_type": "code",
   "outputs": [],
   "execution_count": null,
   "source": "",
   "id": "657d1412db21b3f4"
  }
 ],
 "metadata": {
  "kernelspec": {
   "display_name": "Python 3",
   "language": "python",
   "name": "python3"
  },
  "language_info": {
   "codemirror_mode": {
    "name": "ipython",
    "version": 2
   },
   "file_extension": ".py",
   "mimetype": "text/x-python",
   "name": "python",
   "nbconvert_exporter": "python",
   "pygments_lexer": "ipython2",
   "version": "2.7.6"
  }
 },
 "nbformat": 4,
 "nbformat_minor": 5
}
